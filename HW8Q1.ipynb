{
 "cells": [
  {
   "cell_type": "code",
   "execution_count": 13,
   "id": "6d36a84f-3052-4638-b2fa-39c3ed26de8c",
   "metadata": {},
   "outputs": [
    {
     "name": "stderr",
     "output_type": "stream",
     "text": [
      "Auto-assigning NUTS sampler...\n",
      "Initializing NUTS using jitter+adapt_diag...\n",
      "Multiprocess sampling (4 chains in 4 jobs)\n",
      "NUTS: [betas, intercept]\n"
     ]
    },
    {
     "data": {
      "text/html": [
       "\n",
       "<style>\n",
       "    /* Turns off some styling */\n",
       "    progress {\n",
       "        /* gets rid of default border in Firefox and Opera. */\n",
       "        border: none;\n",
       "        /* Needs to be in here for Safari polyfill so background images work as expected. */\n",
       "        background-size: auto;\n",
       "    }\n",
       "    progress:not([value]), progress:not([value])::-webkit-progress-bar {\n",
       "        background: repeating-linear-gradient(45deg, #7e7e7e, #7e7e7e 10px, #5c5c5c 10px, #5c5c5c 20px);\n",
       "    }\n",
       "    .progress-bar-interrupted, .progress-bar-interrupted::-webkit-progress-bar {\n",
       "        background: #F44336;\n",
       "    }\n",
       "</style>\n"
      ],
      "text/plain": [
       "<IPython.core.display.HTML object>"
      ]
     },
     "metadata": {},
     "output_type": "display_data"
    },
    {
     "data": {
      "text/html": [
       "\n",
       "    <div>\n",
       "      <progress value='12000' class='' max='12000' style='width:300px; height:20px; vertical-align: middle;'></progress>\n",
       "      100.00% [12000/12000 00:04&lt;00:00 Sampling 4 chains, 0 divergences]\n",
       "    </div>\n",
       "    "
      ],
      "text/plain": [
       "<IPython.core.display.HTML object>"
      ]
     },
     "metadata": {},
     "output_type": "display_data"
    },
    {
     "name": "stderr",
     "output_type": "stream",
     "text": [
      "Sampling 4 chains for 1_000 tune and 2_000 draw iterations (4_000 + 8_000 draws total) took 5 seconds.\n"
     ]
    },
    {
     "name": "stdout",
     "output_type": "stream",
     "text": [
      "            mean     sd  hdi_3%  hdi_97%  mcse_mean  mcse_sd  ess_bulk  \\\n",
      "betas[0]   0.064  0.193  -0.312    0.417      0.002    0.002   11615.0   \n",
      "betas[1]  -0.043  0.172  -0.343    0.311      0.002    0.002   12181.0   \n",
      "betas[2]  -0.198  0.165  -0.498    0.126      0.002    0.001   12112.0   \n",
      "betas[3]  -0.097  0.188  -0.447    0.252      0.002    0.002   10806.0   \n",
      "betas[4]  -0.135  0.170  -0.438    0.192      0.002    0.002   11632.0   \n",
      "betas[5]  -5.163  0.473  -6.105   -4.320      0.005    0.004    8420.0   \n",
      "intercept  1.452  0.209   1.062    1.843      0.002    0.002    8695.0   \n",
      "\n",
      "           ess_tail  r_hat  \n",
      "betas[0]     5748.0    1.0  \n",
      "betas[1]     5667.0    1.0  \n",
      "betas[2]     6474.0    1.0  \n",
      "betas[3]     6570.0    1.0  \n",
      "betas[4]     5557.0    1.0  \n",
      "betas[5]     5715.0    1.0  \n",
      "intercept    6517.0    1.0  \n"
     ]
    }
   ],
   "source": [
    "import pandas as pd\n",
    "import pymc as pm\n",
    "import numpy as np\n",
    "import arviz as az\n",
    "\n",
    "# Load the dataset\n",
    "df = pd.read_csv(\"Heart.csv\")\n",
    "\n",
    "# Selecting features and target variable\n",
    "features = [\"Age\", \"Gender\", \"BloodPressure\", \"Cholesterol\", \"HeartRate\", \"QuantumPatternFeature\"]\n",
    "target = \"HeartDisease\"\n",
    "\n",
    "X = df[features]\n",
    "y = df[target]\n",
    "\n",
    "# Standardizing the features for better MCMC performance\n",
    "X_standardized = (X - X.mean()) / X.std()\n",
    "\n",
    "# Converting to NumPy arrays\n",
    "X_data = X_standardized.values\n",
    "y_data = y.values\n",
    "\n",
    "# Number of predictors\n",
    "p = X_data.shape[1]\n",
    "\n",
    "# Bayesian Logistic Regression using PyMC\n",
    "with pm.Model() as model:\n",
    "    # Priors for coefficients\n",
    "    betas = pm.Normal(\"betas\", mu=0, sigma=1, shape=p)\n",
    "    intercept = pm.Normal(\"intercept\", mu=0, sigma=1)\n",
    "    \n",
    "    # Logit link function\n",
    "    logits = intercept + pm.math.dot(X_data, betas)\n",
    "    p = pm.math.sigmoid(logits)\n",
    "    \n",
    "    # Likelihood\n",
    "    y_obs = pm.Bernoulli(\"y_obs\", p=p, observed=y_data)\n",
    "    \n",
    "    # MCMC Sampling\n",
    "    trace = pm.sample(2000, tune=1000, target_accept=0.9, return_inferencedata=True)\n",
    "\n",
    "# Display summary statistics of the posterior\n",
    "print(az.summary(trace))\n"
   ]
  },
  {
   "cell_type": "raw",
   "id": "923178a1-cd39-4f13-a360-9f559e3def13",
   "metadata": {},
   "source": [
    "The results of the Bayesian Logistic Regression suggest that among the features analyzed, the Quantum Pattern Feature is the strongest predictor of heart disease, exhibiting a significant negative effect. With a mean posterior estimate of -5.163 and a 95% credible interval entirely below zero (-6.105 to -4.320), this feature strongly decreases the probability of heart disease. In contrast, the other predictors—age, gender, blood pressure, cholesterol, and heart rate—do not show significant effects, as their credible intervals include zero, indicating uncertainty about their impact.\n",
    "\n",
    "The intercept value of 1.452 implies that when all predictors are at their mean (due to standardization), the baseline log-odds of heart disease translates to an approximately 81% probability. This suggests that even without strong predictive contributions from the traditional health indicators in this dataset, heart disease is relatively common.\n",
    "\n",
    "Regarding the reliability of the Bayesian inference, the MCMC diagnostics indicate strong convergence. The R-hat values are all precisely 1.0, suggesting that the sampling chains mixed well and there are no convergence issues. Additionally, the effective sample size (ESS) is sufficiently high (~8000+ for most coefficients), confirming that the posterior distributions are well-represented.\n",
    "\n",
    "In conclusion, while the model does not find strong evidence for the influence of common cardiovascular risk factors in this dataset, the Quantum Pattern Feature stands out as a highly significant predictor. The strong negative relationship suggests it plays a crucial role in determining heart disease probability, warranting further investigation into its physiological or statistical implications.\n",
    "\n",
    "\n",
    "\n",
    "\n",
    "\n",
    "\n",
    "\n"
   ]
  }
 ],
 "metadata": {
  "kernelspec": {
   "display_name": "Python 3 (ipykernel)",
   "language": "python",
   "name": "python3"
  },
  "language_info": {
   "codemirror_mode": {
    "name": "ipython",
    "version": 3
   },
   "file_extension": ".py",
   "mimetype": "text/x-python",
   "name": "python",
   "nbconvert_exporter": "python",
   "pygments_lexer": "ipython3",
   "version": "3.11.6"
  }
 },
 "nbformat": 4,
 "nbformat_minor": 5
}
